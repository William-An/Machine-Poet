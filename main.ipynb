{
 "cells": [
  {
   "cell_type": "code",
   "execution_count": 1,
   "metadata": {},
   "outputs": [
    {
     "name": "stderr",
     "output_type": "stream",
     "text": [
      "/Users/william/anaconda3/envs/machine-poet/lib/python3.6/site-packages/h5py/__init__.py:36: FutureWarning: Conversion of the second argument of issubdtype from `float` to `np.floating` is deprecated. In future, it will be treated as `np.float64 == np.dtype(float).type`.\n",
      "  from ._conv import register_converters as _register_converters\n",
      "Using TensorFlow backend.\n"
     ]
    }
   ],
   "source": [
    "from keras.models import Sequential\n",
    "import tensorflow as tf\n",
    "import tensorflow_hub as hub"
   ]
  },
  {
   "cell_type": "code",
   "execution_count": 13,
   "metadata": {},
   "outputs": [
    {
     "name": "stdout",
     "output_type": "stream",
     "text": [
      "INFO:tensorflow:Initialize variable module_4/embeddings/part_0:0,module_4/embeddings/part_1:0,module_4/embeddings/part_2:0,module_4/embeddings/part_3:0 from checkpoint b'/var/folders/qz/dx3zfgtj2lqf70kv8b90s8wr0000gp/T/tfhub_modules/f002061d9dee6acda3f90d591a65dbab7627f665/variables/variables' with embeddings\n"
     ]
    }
   ],
   "source": [
    "embed = hub.Module(\"https://tfhub.dev/google/Wiki-words-500-with-normalization/1\")\n",
    "embeddings = embed([\"cat is on the mat\"])"
   ]
  },
  {
   "cell_type": "code",
   "execution_count": 25,
   "metadata": {},
   "outputs": [],
   "source": [
    "sess = tf.Session()"
   ]
  },
  {
   "cell_type": "code",
   "execution_count": 34,
   "metadata": {},
   "outputs": [],
   "source": [
    "def dataset_input_fn(filenames):\n",
    "    filenames = ['poems/shakespeare/sonnets.txt']\n",
    "    # TODO Use skip and filter methods to preprocess data rather than manually do it\n",
    "    # TODO Use Dataset.map method to map '\\n' to 'xxxnewlinexxx'\n",
    "    dataset = tf.data.TextLineDataset(filenames)\n",
    "    dataset = dataset.shuffle(buffer_size=10000)\n",
    "    dataset = dataset.batch(4)\n",
    "    dataset = dataset.repeat()\n",
    "    iterator = dataset.make_one_shot_iterator()\n",
    "    next_poem = iterator.get_next()\n",
    "    return {'sentence':next_poem}"
   ]
  },
  {
   "cell_type": "code",
   "execution_count": 31,
   "metadata": {},
   "outputs": [
    {
     "data": {
      "text/plain": [
       "b\"  xxxnewlinexxx When forty winters shall besiege thy brow, xxxnewlinexxx And dig deep trenches in thy beauty's field, xxxnewlinexxx Thy youth's proud livery so gazed on now, xxxnewlinexxx Will be a tatter'd weed of small worth held:  xxxnewlinexxx Then being asked, where all thy beauty lies, xxxnewlinexxx Where all the treasure of thy lusty days;  xxxnewlinexxx To say, within thine own deep sunken eyes, xxxnewlinexxx Were an all-eating shame, and thriftless praise. xxxnewlinexxx How much more praise deserv'd thy beauty's use, xxxnewlinexxx If thou couldst answer 'This fair child of mine xxxnewlinexxx Shall sum my count, and make my old excuse,' xxxnewlinexxx Proving his beauty by succession thine! xxxnewlinexxx   This were to be new made when thou art old, xxxnewlinexxx   And see thy blood warm when thou feel'st it cold. xxxnewlinexxx  \""
      ]
     },
     "execution_count": 31,
     "metadata": {},
     "output_type": "execute_result"
    }
   ],
   "source": []
  },
  {
   "cell_type": "code",
   "execution_count": 32,
   "metadata": {},
   "outputs": [
    {
     "data": {
      "text/plain": [
       "b\"  xxxnewlinexxx Look in thy glass and tell the face thou viewest xxxnewlinexxx Now is the time that face should form another; xxxnewlinexxx Whose fresh repair if now thou not renewest, xxxnewlinexxx Thou dost beguile the world, unbless some mother. xxxnewlinexxx For where is she so fair whose unear'd womb xxxnewlinexxx Disdains the tillage of thy husbandry? xxxnewlinexxx Or who is he so fond will be the tomb, xxxnewlinexxx Of his self-love to stop posterity?  xxxnewlinexxx Thou art thy mother's glass and she in thee xxxnewlinexxx Calls back the lovely April of her prime; xxxnewlinexxx So thou through windows of thine age shalt see, xxxnewlinexxx Despite of wrinkles this thy golden time. xxxnewlinexxx   But if thou live, remember'd not to be, xxxnewlinexxx   Die single and thine image dies with thee. xxxnewlinexxx  \""
      ]
     },
     "execution_count": 32,
     "metadata": {},
     "output_type": "execute_result"
    }
   ],
   "source": []
  },
  {
   "cell_type": "code",
   "execution_count": null,
   "metadata": {},
   "outputs": [],
   "source": []
  }
 ],
 "metadata": {
  "kernelspec": {
   "display_name": "Python 3",
   "language": "python",
   "name": "python3"
  },
  "language_info": {
   "codemirror_mode": {
    "name": "ipython",
    "version": 3
   },
   "file_extension": ".py",
   "mimetype": "text/x-python",
   "name": "python",
   "nbconvert_exporter": "python",
   "pygments_lexer": "ipython3",
   "version": "3.6.5"
  }
 },
 "nbformat": 4,
 "nbformat_minor": 2
}
